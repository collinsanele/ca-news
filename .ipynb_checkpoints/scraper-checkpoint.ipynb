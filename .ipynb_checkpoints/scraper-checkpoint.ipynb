{
 "cells": [
  {
   "cell_type": "code",
   "execution_count": 1,
   "metadata": {},
   "outputs": [],
   "source": [
    "from bs4 import BeautifulSoup\n",
    "import requests"
   ]
  },
  {
   "cell_type": "code",
   "execution_count": null,
   "metadata": {},
   "outputs": [],
   "source": []
  },
  {
   "cell_type": "code",
   "execution_count": null,
   "metadata": {},
   "outputs": [],
   "source": []
  },
  {
   "cell_type": "code",
   "execution_count": null,
   "metadata": {},
   "outputs": [],
   "source": []
  },
  {
   "cell_type": "code",
   "execution_count": null,
   "metadata": {},
   "outputs": [],
   "source": []
  },
  {
   "cell_type": "code",
   "execution_count": 2,
   "metadata": {},
   "outputs": [],
   "source": [
    "def scrape_nairaland():\n",
    "    headers = {\"User-Agent\":\"Mozilla/5.0 (Windows NT 6.1; Win64; x64) AppleWebKit/537.36 (KHTML, like Gecko) Chrome/71.0.3578.98 Safari/537.36\"}\n",
    "    r = requests.get(\"https://nairaland.com\", headers=headers)\n",
    "    soup = BeautifulSoup(r.content, \"html.parser\")\n",
    "    links = [item.get(\"href\") for item in soup.find(\"td\", class_=\"featured\").find_all(\"a\")][:65]\n",
    "    links_text = [item.text for item in soup.find(\"td\", class_=\"featured\").find_all(\"a\")][:65]\n",
    "    \n",
    "    return {\n",
    "        \n",
    "                \"links_text\":links_text,\n",
    "                \"links\":links\n",
    "                \n",
    "        \n",
    "            }\n",
    "    "
   ]
  },
  {
   "cell_type": "code",
   "execution_count": 21,
   "metadata": {},
   "outputs": [
    {
     "data": {
      "text/plain": [
       "{'links_text': ['David Beckham Insists Messi Is Level Above Ronaldo',\n",
       "  'Rachel The PIPER Foundation Reaches Out To 200 Homes In Abuja IDP Camp (Pics)',\n",
       "  'COVID-19: 40 Lagos Returnees Intercepted In Sokoto',\n",
       "  'Sinkhole Appears In The Middle Of A Road In Ogbor Hill, Aba After Heavy Rain (Photos)',\n",
       "  'Lagos Discharges Four More Coronavirus Patients',\n",
       "  'Soldiers Repel Attack On Yobe Community. Scores Killed',\n",
       "  'Meet The Dancing Pallbearers Who Have Become An Online Sensation (Video)',\n",
       "  '68-Year-Old Woman Delivered Of Twins At LUTH (Photo)',\n",
       "  'Lockdown: Armed Gangsters Rob Homes With POS In Lagos & Ogun',\n",
       "  'Delta Pastor Accuses NDLEA Officials Of Wrongfully Detaining His Wife & Child (Video)',\n",
       "  'Police Smash ‘One Million Boys’, Arrest 8 During Operation',\n",
       "  'Social Distancing At Mountain Of Fire In Aba Today (Photos)',\n",
       "  'Change Of Name: Before Or After Graduation?',\n",
       "  'Navy Invades Ebonyi Community, Exhumes Remains Of Missing Officer Used For Ritual',\n",
       "  'Policemen Involved In Ohafia Shooting Acted Under Influence Of Alcohol - Abia CP',\n",
       "  '\"Kyari\\'s Death, End Of A Surrogate Presidency And The Coming Chaos\" By Kperogi',\n",
       "  'Tagwaye Twins Celebrate Their Birthday With Childhood Pictures',\n",
       "  '\"Pray Against Flood And Fire Incidents, A Big One Is Coming\" - Pastor Adeboye',\n",
       "  'Police Officers Who Flogged A Woman Yesterday In Osun Arrested',\n",
       "  'Rivers State Releases 22 Exxonmobil Staff Arrested For Violating Lockdown Order',\n",
       "  '\"With N8M, Should I Run An Msc Programme, Go For A Pilot Course Or Do Business?\"',\n",
       "  '\"I Saw The Death Of Abba Kyari, Prayed About It But It\\'s The Will Of God\" - Prophet',\n",
       "  \"'Abba Kyari Was My Best Man At My Wedding' - Minister, Onyeama Mourns\",\n",
       "  'COVID-19: How We Invented Ventilators, Others In 8 Days - Balewa University',\n",
       "  'Lagos State Distributes Food Items To Military And Para Military Groups',\n",
       "  'Lagos Records Another Coronavirus Death. Now Total Of 14 COVID-19 Deaths In Lagos',\n",
       "  'Borno State Records First Coronavirus Death',\n",
       "  'Abba Kyari: Enugu Governor Condoles With President Buhari, Family, Others',\n",
       "  \"Why Was There Fresh Blood Stain Inside Abba Kyari's Box? (Photo, Video)\",\n",
       "  'Photos Of The Lady Flogged By Policemen On Her Way To Get Drugs & Relief Materials',\n",
       "  'Lockdown: RRS Rushes Pregnant Woman In Labour To Hospital',\n",
       "  \"Likely Successors Of Abba Kyari As Buhari's Chief Of Staff - Punch (Photos)\",\n",
       "  'COVID-19: Buring Bodies Of Victims From Around The World (Photos)',\n",
       "  'Abba Kyari’s Health Relapsed Hours Before Scheduled Discharge. How He Died',\n",
       "  'Nigerian Priest Leaves German Church After Receiving Death Threat (Photos)',\n",
       "  '\"Should I Pay Tithe From My 20k Stimulus I Got From Government?\"',\n",
       "  '\"This Is Why It\\'s So Hard Practising Envagelism As A Single Lady\"',\n",
       "  'Differences Between Demonic Initiation And Christian Spiritual Awakening',\n",
       "  'What Are Your Favourite Nigerian Gospel Songs?',\n",
       "  'The Truth About The Judgement Day You Should Know As A Christian',\n",
       "  'Pictures Of A Popular Market In Kano, Before And After Lockdown',\n",
       "  'Ike Ekweremadu Distributes Food Items In Enugu West',\n",
       "  'Governor Umahi Declares Partial Lockdown (7pm To 7am) In Ebonyi',\n",
       "  'Iphone SE 2020 ($399): Should Anyone Buy This?',\n",
       "  'Top Presidency Aides Denied Access To Aso Villa After Violating NCDC Guidelines',\n",
       "  'COVID-19: Lagos Releases Location And Numbers Of 26 Testing Centres',\n",
       "  '49 New Cases Of COVID-19 Reported, Total 542, 166 Discharged, 19 Deaths',\n",
       "  'Late Abba Kyari With His Beautiful Family (Photo)',\n",
       "  \"Abba Kyari's Burial: FCTA Reacts To Unprofessional Conduct At Gudu Cemetery\",\n",
       "  'Air Peace Provides Food Items For Hundreds Of Less Privileged In Makoko, Ajegunle',\n",
       "  'What Comes With Marrying The Breadwinner Of A Family?',\n",
       "  'Anambra COVID-19 Index Case Tests Negative',\n",
       "  'Lions Nap On Road In South Africa During Lockdown (Photos)',\n",
       "  \"We Can't Flog Those Who Came To Pay Last Respect To Abba Kyari - Garba Shehu\",\n",
       "  'Lockdown: Woman Flogged By Police Officers (Video)',\n",
       "  \"Man Carelessly Disposes His COVID-19 Protective Wear After Abba Kyari's Burial\",\n",
       "  'COVID-19: Adamawa Quarantines 118 Returnees From Lagos, Other States',\n",
       "  \"Dickson Condoles With Buhari, Zulum, Kyari's Family On Abba Kyari’s Death\",\n",
       "  \"Abba Kyari: How FG Spent Millions Of Naira In Trying To Save Buhari's COS - SR\",\n",
       "  'Coronavirus: Space Crew Return To Very Different Earth',\n",
       "  \"'To My Friend': President Buhari Pens Emotional Tribute To Abba Kyari\",\n",
       "  'Abba Kyari: The THISDAY LIVE Headline That Got People Talking',\n",
       "  \"Photos Of Abba Kyari's Grave At Gudu Cemetery Abuja\",\n",
       "  \"Mum Infects Her 17 Children With Coronavirus In US As She Didn't Show Symptoms (Pics)\",\n",
       "  'VP Osinbajo Condoles With The Family Of Abba Kyari'],\n",
       " 'links': ['https://www.nairaland.com/5803820/david-beckham-insists-messi-level',\n",
       "  'https://www.nairaland.com/5804100/rachel-piper-foundation-reaches-out',\n",
       "  'https://www.nairaland.com/5803798/covid-19-40-lagos-returnees-intercepted',\n",
       "  'https://www.nairaland.com/5803733/sinkhole-appears-middle-road-ogbor',\n",
       "  'https://www.nairaland.com/5804043/lagos-discharges-four-more-coronavirus',\n",
       "  'https://www.nairaland.com/5803450/soldiers-repel-attack-buni-gari',\n",
       "  'https://www.nairaland.com/5804037/meet-dancing-pallbearers-online-sensation',\n",
       "  'https://www.nairaland.com/5803709/68-year-old-woman-delivered-twins-luth',\n",
       "  'https://www.nairaland.com/5803472/armed-gangsters-rob-homes-pos',\n",
       "  'https://www.nairaland.com/5803784/delta-pastor-accuses-ndlea-officials',\n",
       "  'https://www.nairaland.com/5803425/police-smash-one-million-boys',\n",
       "  'https://www.nairaland.com/5803370/social-distancing-mfm-church-aba',\n",
       "  'https://www.nairaland.com/5802988/change-name-before-after-graduation',\n",
       "  'https://www.nairaland.com/5802266/navy-exhumes-remains-missing-officer',\n",
       "  'https://www.nairaland.com/5802239/policemen-involved-ohafia-shooting-acted',\n",
       "  'https://www.nairaland.com/5802287/kyaris-death-end-surrogate-presidency',\n",
       "  'https://www.nairaland.com/5802055/tagwaye-twins-celebrate-birthday-childhood',\n",
       "  'https://www.nairaland.com/5803352/pator-adeboye-pray-against-flood',\n",
       "  'https://www.nairaland.com/5803360/tola-azeez-police-officers-flogged',\n",
       "  'https://www.nairaland.com/5803182/rivers-releases-22-exxonmobil-staff',\n",
       "  'https://www.nairaland.com/5802630/8m-should-run-msc-prog',\n",
       "  'https://www.nairaland.com/5803083/fufeyin-saw-death-abba-kyari',\n",
       "  'https://www.nairaland.com/5803286/geoffrey-onyeama-abba-kyari-best',\n",
       "  'https://www.nairaland.com/5803255/atbu-covid-19-how-invented-ventilators',\n",
       "  'https://www.nairaland.com/5803229/lagos-state-distributes-food-items',\n",
       "  'https://www.nairaland.com/5803331/lagos-records-another-coronavirus-death',\n",
       "  'https://www.nairaland.com/5803193/borno-records-first-coronavirus-death',\n",
       "  'https://www.nairaland.com/5803521/abba-kyari-ugwuanyi-condoles-president',\n",
       "  'https://www.nairaland.com/5802428/why-there-fresh-blood-stain',\n",
       "  'https://www.nairaland.com/5803503/tola-azeez-flogged-policemen-way',\n",
       "  'https://www.nairaland.com/5803334/lockdown-rrs-rushes-pregnant-woman',\n",
       "  'https://www.nairaland.com/5803124/likely-successors-abba-kyari-buharis',\n",
       "  'https://www.nairaland.com/5803136/covid-19-buring-bodies-victims-around',\n",
       "  'https://www.nairaland.com/5802953/how-abba-kyari-died-coronavirus',\n",
       "  'https://www.nairaland.com/5801887/priest-patrick-asomugha-leaves-german',\n",
       "  'https://www.nairaland.com/5799902/should-pay-tithe-20k-stimulus',\n",
       "  'https://www.nairaland.com/5802032/hard-practising-envagelism-single-female',\n",
       "  'https://www.nairaland.com/5802700/differences-demonic-initiation-christian-spiritual',\n",
       "  'https://www.nairaland.com/5802581/what-favourite-nigerian-gospel-songs',\n",
       "  'https://www.nairaland.com/5802830/truth-judgement-day-should-know',\n",
       "  'https://www.nairaland.com/5802638/sabon-gari-market-kano-before',\n",
       "  'https://www.nairaland.com/5802743/ike-ekweremadu-distributes-food-items',\n",
       "  'https://www.nairaland.com/5802304/umahi-declares-partial-lockdown-7pm',\n",
       "  'https://www.nairaland.com/5801611/iphone-se-2020-399-should',\n",
       "  'https://www.nairaland.com/5802244/top-presidency-aides-denied-access',\n",
       "  'https://www.nairaland.com/5802613/covid-19-lagos-releases-location-numbers',\n",
       "  'https://www.nairaland.com/5802445/49-new-cases-covid-19-reported',\n",
       "  'https://www.nairaland.com/5801573/late-abba-kyari-beautiful-family',\n",
       "  'https://www.nairaland.com/5802320/abba-kyaris-burial-fcta-reacts',\n",
       "  'https://www.nairaland.com/5802049/air-peace-provides-food-items',\n",
       "  'https://www.nairaland.com/5795270/what-comes-marrying-breadwinner-family',\n",
       "  'https://www.nairaland.com/5802276/anambra-covid-19-index-case-tests',\n",
       "  'https://www.nairaland.com/5802121/lions-nap-road-south-africa',\n",
       "  'https://www.nairaland.com/5802135/cant-flog-those-came-abba',\n",
       "  'https://www.nairaland.com/5801493/lockdown-woman-flogged-police-officers',\n",
       "  'https://www.nairaland.com/5802111/man-carelessly-disposes-covid-19-protective',\n",
       "  'https://www.nairaland.com/5801954/covid-19-adamawa-quarantines-118-returnees',\n",
       "  'https://www.nairaland.com/5801921/dickson-condoles-buhari-zulum-kyari',\n",
       "  'https://www.nairaland.com/5800746/abba-kyari-how-fg-spent',\n",
       "  'https://www.nairaland.com/5799371/coronavirus-space-crew-return-very',\n",
       "  'https://www.nairaland.com/5802105/president-buharis-tribute-abba-kyari',\n",
       "  'https://www.nairaland.com/5801547/abba-kyari-thisday-live-headline',\n",
       "  'https://www.nairaland.com/5801467/photos-grave-abba-kyari-gudu',\n",
       "  'https://www.nairaland.com/5801918/mum-infects-17-children-coronavirus',\n",
       "  'https://www.nairaland.com/5801582/osinbajo-condoles-family-abba-kyari']}"
      ]
     },
     "execution_count": 21,
     "metadata": {},
     "output_type": "execute_result"
    }
   ],
   "source": [
    "#scrape_nairaland()"
   ]
  },
  {
   "cell_type": "code",
   "execution_count": null,
   "metadata": {},
   "outputs": [],
   "source": []
  },
  {
   "cell_type": "code",
   "execution_count": 4,
   "metadata": {},
   "outputs": [],
   "source": []
  },
  {
   "cell_type": "code",
   "execution_count": 5,
   "metadata": {},
   "outputs": [],
   "source": []
  },
  {
   "cell_type": "code",
   "execution_count": null,
   "metadata": {},
   "outputs": [],
   "source": []
  },
  {
   "cell_type": "code",
   "execution_count": 6,
   "metadata": {},
   "outputs": [
    {
     "data": {
      "text/plain": [
       "<div class=\"cat-sections_item\">\n",
       "<a href=\"https://www.youtube.com/watch?v=jqIQ9UCtabE\" target=\"_blank\" title=\"VIDEO: I am not aware of any hazard allowance for doctors fighting COVID-19  –Health minister\">\n",
       "<div class=\"cat-sections_image b-lazy\" data-src=\"https://cdn.punchng.com/wp-content/uploads/2020/04/11215005/Hazar-allo-e1586638218555.png\" data-src-small=\"https://cdn.punchng.com/wp-content/uploads/2020/04/11215005/Hazar-allo-300x167.png\">\n",
       "<div class=\"blurry\" style=\"background-image: url('https://cdn.punchng.com/wp-content/uploads/2020/04/11215005/Hazar-allo-30x17.png')\"></div>\n",
       "</div>\n",
       "<div class=\"title-box\">\n",
       "VIDEO: I am not aware of any hazard allowance for doctors fighting COVID-19 –Health minister </div>\n",
       "</a>\n",
       "</div>"
      ]
     },
     "execution_count": 6,
     "metadata": {},
     "output_type": "execute_result"
    }
   ],
   "source": [
    "soup.find(\"div\", class_=\"cat-sections_item\")"
   ]
  },
  {
   "cell_type": "code",
   "execution_count": null,
   "metadata": {},
   "outputs": [],
   "source": []
  },
  {
   "cell_type": "code",
   "execution_count": 3,
   "metadata": {},
   "outputs": [],
   "source": [
    "\n",
    "def scrape_punch():\n",
    "\n",
    "    imgs = []\n",
    "    titles = []\n",
    "    links = []\n",
    "    \n",
    "    r = requests.get(\"https://punchng.com/\")\n",
    "    soup = BeautifulSoup(r.content, \"html.parser\")\n",
    "\n",
    "    for item in soup.findAll(\"div\", class_=\"cat-sections_item\"):\n",
    "        img = None\n",
    "        title = None\n",
    "        link = None\n",
    "\n",
    "        try:\n",
    "            img = item.find(\"div\", class_=\"cat-sections_image\").get(\"data-src\")\n",
    "\n",
    "        except:\n",
    "            pass\n",
    "\n",
    "        try:\n",
    "            title = item.find(\"div\", class_=\"title-box\").text.strip()\n",
    "\n",
    "        except:\n",
    "            pass\n",
    "        \n",
    "        try:\n",
    "            link = item.find(\"a\").get(\"href\")\n",
    "            \n",
    "        except:\n",
    "            pass\n",
    "\n",
    "        imgs.append(img)\n",
    "        titles.append(title)\n",
    "        links.append(link)\n",
    "        \n",
    "    return zip(titles, imgs, links)"
   ]
  },
  {
   "cell_type": "code",
   "execution_count": null,
   "metadata": {},
   "outputs": [],
   "source": []
  },
  {
   "cell_type": "code",
   "execution_count": 5,
   "metadata": {},
   "outputs": [],
   "source": []
  },
  {
   "cell_type": "code",
   "execution_count": 6,
   "metadata": {},
   "outputs": [],
   "source": []
  },
  {
   "cell_type": "code",
   "execution_count": 7,
   "metadata": {},
   "outputs": [
    {
     "data": {
      "text/plain": [
       "<article class=\"jeg_post jeg_pl_md_2 post-520902 post type-post status-publish format-standard has-post-thumbnail hentry category-national\">\n",
       "<div class=\"jeg_thumb\">\n",
       "<a href=\"https://www.sunnewsonline.com/covid-19-25-inmates-regain-freedom-in-delta/\"><div class=\"thumbnail-container animate-lazy size-715 \"><img alt=\"Ebonyi Chief Judge frees 11 prison inmates\" class=\"attachment-jnews-350x250 size-jnews-350x250 lazyload wp-post-image\" data-expand=\"700\" data-sizes=\"auto\" data-src=\"https://sunnewsonline.com/wp-content/uploads/2019/11/prison-350x250.jpg\" data-srcset=\"https://sunnewsonline.com/wp-content/uploads/2019/11/prison-350x250.jpg 350w, https://sunnewsonline.com/wp-content/uploads/2019/11/prison-120x86.jpg 120w\" height=\"250\" src=\"https://www.sunnewsonline.com/wp-content/themes/jnews/assets/img/jeg-empty.png\" width=\"350\"/></div></a>\n",
       "</div>\n",
       "<div class=\"jeg_postblock_content\">\n",
       "<h3 class=\"jeg_post_title\">\n",
       "<a href=\"https://www.sunnewsonline.com/covid-19-25-inmates-regain-freedom-in-delta/\">COVID-19: 25 inmates regain freedom in Delta</a>\n",
       "</h3>\n",
       "<div class=\"jeg_post_meta\"><div class=\"jeg_meta_date\"><a href=\"https://www.sunnewsonline.com/covid-19-25-inmates-regain-freedom-in-delta/\"><i class=\"fa fa-clock-o\"></i> 20th April 2020</a></div><div class=\"jeg_meta_comment\"><a href=\"https://www.sunnewsonline.com/covid-19-25-inmates-regain-freedom-in-delta/#respond\"><i class=\"fa fa-comment-o\"></i> 0 </a></div></div>\n",
       "<div class=\"jeg_post_excerpt\">\n",
       "<p>Paul Osuyi, Asaba About 25 inmates serving various jail terms at the Nigerian Correctional Service (NCS), Kwale Custodian Centre in ...</p>\n",
       "</div>\n",
       "</div>\n",
       "</article>"
      ]
     },
     "execution_count": 7,
     "metadata": {},
     "output_type": "execute_result"
    }
   ],
   "source": [
    "soup.find(\"article\")"
   ]
  },
  {
   "cell_type": "code",
   "execution_count": 13,
   "metadata": {},
   "outputs": [],
   "source": [
    "def scrape_sun():\n",
    "\n",
    "    imgs = []\n",
    "    titles = []\n",
    "    links = []\n",
    "\n",
    "    r = requests.get(\"https://www.sunnewsonline.com/?p=*****\")\n",
    "    soup = BeautifulSoup(r.content, \"html.parser\")\n",
    "\n",
    "    for item in soup.findAll(\"article\"):\n",
    "        try:\n",
    "            link = item.find(\"a\").get(\"href\")\n",
    "        except:\n",
    "            pass\n",
    "\n",
    "        try:\n",
    "            img = item.find(\"img\").get(\"data-src\")\n",
    "\n",
    "        except:\n",
    "            pass\n",
    "\n",
    "        try:\n",
    "            title = item.find(\"h3\").text.strip()\n",
    "\n",
    "        except:\n",
    "            pass\n",
    "\n",
    "        links.append(link)\n",
    "        imgs.append(img)\n",
    "        titles.append(title)\n",
    "        \n",
    "    return zip(links, imgs, titles)"
   ]
  },
  {
   "cell_type": "code",
   "execution_count": null,
   "metadata": {},
   "outputs": [],
   "source": []
  },
  {
   "cell_type": "code",
   "execution_count": null,
   "metadata": {},
   "outputs": [],
   "source": []
  },
  {
   "cell_type": "code",
   "execution_count": 19,
   "metadata": {},
   "outputs": [],
   "source": []
  },
  {
   "cell_type": "code",
   "execution_count": 20,
   "metadata": {},
   "outputs": [],
   "source": []
  },
  {
   "cell_type": "code",
   "execution_count": 60,
   "metadata": {},
   "outputs": [],
   "source": [
    "def scrape_vanguard():\n",
    "\n",
    "    headers = {\"User-Agent\":\"Mozilla/5.0 (Windows NT 6.1; Win64; x64) AppleWebKit/537.36 (KHTML, like Gecko) Chrome/71.0.3578.98 Safari/537.36\"}\n",
    "\n",
    "    r = requests.get(\"https://www.vanguardngr.com/category/national-news/\", headers=headers)\n",
    "\n",
    "    soup = BeautifulSoup(r.content, \"html.parser\")\n",
    "\n",
    "\n",
    "    imgs = []\n",
    "    links = []\n",
    "    titles = []\n",
    "    bodies = []\n",
    "\n",
    "    for item in soup.findAll(\"article\"):\n",
    "        link = \"\"\n",
    "        img = \"\"\n",
    "        title = \"\"\n",
    "        body = \"\"\n",
    "\t\t\n",
    "        try:\n",
    "            img = item.find(\"div\", class_=\"rtp-post-thumbnail\").find(\"img\").get(\"src\")\n",
    "\n",
    "        except:\n",
    "            pass\n",
    "\n",
    "        try:\n",
    "            title = item.find(\"h2\").text\n",
    "\n",
    "        except:\n",
    "            pass\n",
    "\n",
    "        try:\n",
    "            link = item.find(\"a\").get(\"href\")\n",
    "\n",
    "        except:\n",
    "            pass\n",
    "\n",
    "        try:\n",
    "            body = item.find(\"div\", class_=\"entry-content\").text.strip()\n",
    "\n",
    "        except:\n",
    "            pass\n",
    "\n",
    "        titles.append(title)\n",
    "        imgs.append(img)\n",
    "        links.append(link)\n",
    "        bodies.append(body)\n",
    "\n",
    "\n",
    "    return zip(titles, imgs, links, bodies)"
   ]
  },
  {
   "cell_type": "code",
   "execution_count": 45,
   "metadata": {},
   "outputs": [],
   "source": [
    "def scrape_vanguard():\n",
    "\n",
    "    headers = {\"User-Agent\":\"Mozilla/5.0 (Windows NT 6.1; Win64; x64) AppleWebKit/537.36 (KHTML, like Gecko) Chrome/71.0.3578.98 Safari/537.36\"}\n",
    "\n",
    "    r = requests.get(\"https://www.vanguardngr.com/category/national-news/\", headers=headers)\n",
    "\n",
    "    soup = BeautifulSoup(r.content, \"html.parser\")\n",
    "\n",
    "\n",
    "    imgs = []\n",
    "    links = []\n",
    "    titles = []\n",
    "    bodies = []\n",
    "\n",
    "    for item in soup.findAll(\"article\"):\n",
    "        try:\n",
    "            img = item.find(\"div\", class_=\"rtp-post-thumbnail\").find(\"img\").get(\"src\")\n",
    "\n",
    "        except:\n",
    "            pass\n",
    "\n",
    "        try:\n",
    "            title = item.find(\"h2\").text\n",
    "\n",
    "        except:\n",
    "            pass\n",
    "\n",
    "        try:\n",
    "            link = item.find(\"a\").get(\"href\")\n",
    "\n",
    "        except:\n",
    "            pass\n",
    "\n",
    "        try:\n",
    "            body = item.find(\"div\", class_=\"entry-content\").text.strip()\n",
    "\n",
    "        except:\n",
    "            pass\n",
    "\n",
    "        titles.append(title)\n",
    "        imgs.append(img)\n",
    "        links.append(link)\n",
    "        bodies.append(body)\n",
    "\n",
    "\n",
    "    return zip(links, imgs, titles, bodies)"
   ]
  },
  {
   "cell_type": "code",
   "execution_count": 36,
   "metadata": {},
   "outputs": [],
   "source": [
    "headers = {\"User-Agent\":\"Mozilla/5.0 (Windows NT 6.1; Win64; x64) AppleWebKit/537.36 (KHTML, like Gecko) Chrome/71.0.3578.98 Safari/537.36\"}\n",
    "r = requests.get(\"https://www.vanguardngr.com/category/national-news/\", headers=headers)\n",
    "soup = BeautifulSoup(r.content, \"html.parser\")"
   ]
  },
  {
   "cell_type": "code",
   "execution_count": 38,
   "metadata": {},
   "outputs": [
    {
     "data": {
      "text/plain": [
       "'https://i2.wp.com/www.vanguardngr.com/wp-content/uploads/2018/07/trucks.png?fit=53%2C58&ssl=1'"
      ]
     },
     "execution_count": 38,
     "metadata": {},
     "output_type": "execute_result"
    }
   ],
   "source": [
    "soup.find(\"div\", class_=\"rtp-post-thumbnail\").find(\"img\").get(\"src\")"
   ]
  },
  {
   "cell_type": "code",
   "execution_count": null,
   "metadata": {},
   "outputs": [],
   "source": []
  },
  {
   "cell_type": "code",
   "execution_count": 68,
   "metadata": {},
   "outputs": [],
   "source": []
  },
  {
   "cell_type": "code",
   "execution_count": 69,
   "metadata": {},
   "outputs": [],
   "source": []
  },
  {
   "cell_type": "code",
   "execution_count": 70,
   "metadata": {},
   "outputs": [
    {
     "data": {
      "text/plain": [
       "<div class=\"views-row views-row-1\">\n",
       "<div about=\"/2020/04/20/nigerians-react-ghana-lifts-lockdown-despite-recording-over-1000-covid-19-cases\" class=\"ds-1col node node-story node-promoted node-sticky taxonomy-ghana view-mode-teaser_large_teaser block-module block-module-large block-module-story clearfix\" typeof=\"sioc:Item foaf:Document\">\n",
       "<div class=\"block-module-image block-module-image-scale-to-fit\"><div class=\"block-module-image-wrapper\"><a href=\"/2020/04/20/nigerians-react-ghana-lifts-lockdown-despite-recording-over-1000-covid-19-cases\"><span class=\"image-background-wrapper\"><img alt=\"BREAKING NEWS #covid-19 THE PRESIDENT OF GHANA LIFTS PARTIAL LOCKDOWN!! #mpilvlog #coronavirus\" height=\"280\" src=\"http://saharareporters.com/sites/default/files/styles/wide_medium/public/media-youtube/ad7KpDBrjfI.jpg?itok=Gq1Hp6_d\" typeof=\"foaf:Image\" width=\"500\"/></span></a>\n",
       "</div>\n",
       "<span class=\"block-module-image-placeholder\"></span>\n",
       "<a class=\"block-module-image-action\" href=\"/2020/04/20/nigerians-react-ghana-lifts-lockdown-despite-recording-over-1000-covid-19-cases\">\n",
       "<i class=\"icon icon-small icon-white icon-play\"></i>\n",
       "</a>\n",
       "</div><div class=\"block-module-content\"><div class=\"block-module-content-header\"><a class=\"block-module-content-header-heading\" href=\"/ghana\">Ghana</a>\n",
       "<span class=\"block-module-content-header-title\"><a href=\"/2020/04/20/nigerians-react-ghana-lifts-lockdown-despite-recording-over-1000-covid-19-cases\">Nigerians React As Ghana Lifts Lockdown Despite Recording Over 1000 COVID-19 Cases</a></span>\n",
       "</div><div class=\"block-module-content-footer\"><div class=\"block-module-content-footer-item block-module-content-footer-item-share\"><div addthis:title=\"Nigerians React As Ghana Lifts Lockdown Despite Recording Over 1000 COVID-19 Cases - Sahara Reporters\" addthis:url=\"http://saharareporters.com/2020/04/20/nigerians-react-ghana-lifts-lockdown-despite-recording-over-1000-covid-19-cases\" class=\"addthis_toolbox addthis_default_style \"><a class=\"addthis_counter addthis_bubble_style\" href=\"//www.addthis.com/bookmark.php?v=300\"></a>\n",
       "</div>\n",
       "<i class=\"icon icon-mini icon-white icon-share\"></i>\n",
       "</div><div class=\"block-module-content-footer-item block-module-content-footer-item-comments\"><a data-disqus-identifier=\"node/79854\" href=\"http://saharareporters.com/2020/04/20/nigerians-react-ghana-lifts-lockdown-despite-recording-over-1000-covid-19-cases#disqus_thread\">0 Comments</a>\n",
       "</div><div class=\"block-module-content-footer-item block-module-content-footer-item-date\">12 Hours Ago\n",
       "</div></div></div></div>\n",
       "</div>"
      ]
     },
     "execution_count": 70,
     "metadata": {},
     "output_type": "execute_result"
    }
   ],
   "source": [
    "soup.find(class_=\"views-row\")"
   ]
  },
  {
   "cell_type": "code",
   "execution_count": 83,
   "metadata": {},
   "outputs": [],
   "source": [
    "def scrape_sahara():\n",
    "    imgs = []\n",
    "    links = []\n",
    "    titles = []\n",
    "    \n",
    "    r = requests.get(\"http://saharareporters.com/\")\n",
    "    soup = BeautifulSoup(r.content, \"html.parser\")\n",
    "\n",
    "    for item in soup.findAll(class_=\"views-row\"):\n",
    "        try:\n",
    "            img = item.find(\"img\").get(\"src\")\n",
    "\n",
    "        except:\n",
    "            pass\n",
    "\n",
    "        try:\n",
    "            link = item.find(\"a\").get(\"href\")\n",
    "            link = \"http://saharareporters.com\"+link\n",
    "\n",
    "        except:\n",
    "            pass\n",
    "\n",
    "        try:\n",
    "            title = item.find(\"div\", class_=\"block-module-content-header\").find(\"span\").text.strip()\n",
    "            print(title)\n",
    "            print()\n",
    "\n",
    "        except:\n",
    "            pass\n",
    "        \n",
    "        links.append(link)\n",
    "        imgs.append(img)\n",
    "        titles.append(title)\n",
    "        \n",
    "    return zip(links, imgs, titles)\n",
    "\n"
   ]
  },
  {
   "cell_type": "code",
   "execution_count": 85,
   "metadata": {},
   "outputs": [],
   "source": [
    "#list(scrape_sahara())"
   ]
  },
  {
   "cell_type": "code",
   "execution_count": 88,
   "metadata": {},
   "outputs": [],
   "source": [
    "def scrape_sun():\n",
    "\n",
    "    imgs = []\n",
    "    titles = []\n",
    "    links = []\n",
    "\n",
    "    r = requests.get(\"https://www.sunnewsonline.com/?p=*****\")\n",
    "    soup = BeautifulSoup(r.content, \"html.parser\")\n",
    "\n",
    "    for item in soup.findAll(\"article\"):\n",
    "        \n",
    "        title = \"\"\n",
    "        link = \"\"\n",
    "        img = \"\"\n",
    "        \n",
    "        \n",
    "        try:\n",
    "            link = item.find(\"a\").get(\"href\")\n",
    "        except:\n",
    "            pass\n",
    "\n",
    "        try:\n",
    "            img = item.find(\"img\").get(\"data-src\")\n",
    "\n",
    "        except:\n",
    "            pass\n",
    "\n",
    "        try:\n",
    "            title = item.find(\"h3\").text.strip()\n",
    "\n",
    "        except:\n",
    "            pass\n",
    "\n",
    "        links.append(link)\n",
    "        imgs.append(img)\n",
    "        titles.append(title)\n",
    "\n",
    "    return zip(titles, imgs, links)"
   ]
  },
  {
   "cell_type": "code",
   "execution_count": null,
   "metadata": {},
   "outputs": [],
   "source": []
  },
  {
   "cell_type": "code",
   "execution_count": 60,
   "metadata": {},
   "outputs": [],
   "source": [
    "r = requests.get(\"https://www.aljazeera.com/news/\")\n",
    "soup = BeautifulSoup(r.content, \"html.parser\")"
   ]
  },
  {
   "cell_type": "code",
   "execution_count": null,
   "metadata": {},
   "outputs": [],
   "source": []
  },
  {
   "cell_type": "code",
   "execution_count": 86,
   "metadata": {},
   "outputs": [
    {
     "data": {
      "text/plain": [
       "[<img src=\"/img/nov-2016/video-programmes.png\"/>,\n",
       " <img alt=\"Canada oil pressure: US price crash causes cuts over the border\" class=\"img-responsive lazy\" data-src=\"/mritems/imagecache/mbdresplarge/mritems/images/2020/4/21/image-20200421093806048.jpg\" onerror=\"this.onerror=null;this.src='/assets/images/novresptopfeature.jpg';\" src=\"/assets/images/novresptopfeature.jpg\" title=\"Canada oil pressure: US price crash causes cuts over the border\"/>]"
      ]
     },
     "execution_count": 86,
     "metadata": {},
     "output_type": "execute_result"
    }
   ],
   "source": [
    "soup.findAll(\"div\", class_=\"default-style\")[8].findAll(\"img\")"
   ]
  },
  {
   "cell_type": "code",
   "execution_count": null,
   "metadata": {},
   "outputs": [],
   "source": []
  },
  {
   "cell_type": "code",
   "execution_count": 95,
   "metadata": {},
   "outputs": [],
   "source": [
    "\n",
    "def scrape_aljazeera():\n",
    "\n",
    "    r = requests.get(\"https://www.aljazeera.com/news/\")\n",
    "    soup = BeautifulSoup(r.content, \"html.parser\")\n",
    "\n",
    "    imgs = []\n",
    "    titles = []\n",
    "    links = []\n",
    "\n",
    "    for item in soup.findAll(\"div\", class_=\"default-style\"):\n",
    "        link = \"\"\n",
    "        img = \"\"\n",
    "        title = \"\"\n",
    "\n",
    "        try:\n",
    "            link = item.find(\"a\").get(\"href\")\n",
    "            link = \"https://www.aljazeera.com\"+link\n",
    "\n",
    "        except:\n",
    "            pass\n",
    "\n",
    "        try:\n",
    "            potential_imgs = item.findAll(\"img\")\n",
    "            for item_ in potential_imgs:\n",
    "                if item_.get(\"src\") and \"DefaultAvatar\" not in item_.get(\"src\") and \"video-programmes.png\" not in item_.get(\"src\"):\n",
    "                    img = item_.get(\"src\")\n",
    "                    \n",
    "                    \n",
    "                if item_.get(\"data-src\"):\n",
    "                    img = item_.get(\"data-src\")\n",
    "            \n",
    "            \n",
    "            img = \"https://www.aljazeera.com\"+img\n",
    "\n",
    "        except Exception as e:\n",
    "            print(e)\n",
    "            pass\n",
    "\n",
    "        try:\n",
    "            title = item.find(\"h2\").text\n",
    "\n",
    "        except:\n",
    "            pass\n",
    "\n",
    "        imgs.append(img)\n",
    "        titles.append(title)\n",
    "        links.append(link)\n",
    "\n",
    "    return zip(links, imgs, titles)"
   ]
  },
  {
   "cell_type": "code",
   "execution_count": null,
   "metadata": {},
   "outputs": [],
   "source": []
  },
  {
   "cell_type": "code",
   "execution_count": null,
   "metadata": {},
   "outputs": [],
   "source": []
  },
  {
   "cell_type": "code",
   "execution_count": null,
   "metadata": {},
   "outputs": [],
   "source": []
  },
  {
   "cell_type": "code",
   "execution_count": 97,
   "metadata": {},
   "outputs": [],
   "source": [
    "r = requests.get(\"https://sportinglife.ng/\")"
   ]
  },
  {
   "cell_type": "code",
   "execution_count": 98,
   "metadata": {},
   "outputs": [],
   "source": [
    "soup = BeautifulSoup(r.content, \"html.parser\")"
   ]
  },
  {
   "cell_type": "code",
   "execution_count": 107,
   "metadata": {},
   "outputs": [
    {
     "data": {
      "text/plain": [
       "<div class=\"item-inner clearfix\">\n",
       "<div class=\"featured featured-type-featured-image\">\n",
       "<a class=\"img-holder\" data-bs-srcset='{\"baseurl\":\"https:\\/\\/sportinglife.ng\\/wp-content\\/uploads\\/2019\\/12\\/\",\"sizes\":{\"86\":\"Iheanacho-2-86x64.jpg\",\"210\":\"Iheanacho-2-210x136.jpg\",\"1050\":\"Iheanacho-2.jpg\"}}' data-src=\"https://sportinglife.ng/wp-content/uploads/2019/12/Iheanacho-2-86x64.jpg\" href=\"https://sportinglife.ng/iheanacho-linked-to-turkish-club-trabzonspor/\" title=\"Iheanacho linked to Turkish club Trabzonspor\"></a>\n",
       "</div>\n",
       "<h3 class=\"title\"> <a class=\"post-url post-title\" href=\"https://sportinglife.ng/iheanacho-linked-to-turkish-club-trabzonspor/\">\n",
       "\t\t\tIheanacho linked to Turkish club Trabzonspor\t\t</a>\n",
       "</h3> <div class=\"post-meta\">\n",
       "<span class=\"time\"><time class=\"post-published updated\" datetime=\"2020-04-21T12:03:55+01:00\">Apr 21, 2020</time></span>\n",
       "</div>\n",
       "</div>"
      ]
     },
     "execution_count": 107,
     "metadata": {},
     "output_type": "execute_result"
    }
   ],
   "source": [
    "soup.find(\"div\", class_=\"row-2\").findAll(class_=\"item-inner\")[0]"
   ]
  },
  {
   "cell_type": "code",
   "execution_count": null,
   "metadata": {},
   "outputs": [],
   "source": [
    "imgs = []\n",
    "titles = []\n",
    "links = []\n",
    "\n",
    "for item in soup.find(\"div\", class_=\"row-2\").findAll(class_=\"item-inner\"):\n",
    "    img = \"\"\n",
    "    title = \"\"\n",
    "    link = \"\"\n",
    "    \n",
    "    try:\n",
    "        img = item.find(\"a\", class_=\"img-holder\").get(\"data-src\")\n",
    "        \n",
    "    except Exception as e:\n",
    "        pass\n",
    "    \n",
    "    \n",
    "    try:\n",
    "        title = item.find(\"h3\", class_=\"title\").text.strip()\n",
    "        \n",
    "    except Exception as e:\n",
    "        pass\n",
    "    \n",
    "    \n",
    "    try:\n",
    "        link = item.find(\"h3\", class_=\"title\").find(\"a\").get(\"href\")\n",
    "        \n",
    "    except Exception as e:\n",
    "        pass\n",
    "    \n",
    "    imgs.append(img)\n",
    "    links.append(link)\n",
    "    titles.append(title)\n",
    "        "
   ]
  },
  {
   "cell_type": "code",
   "execution_count": null,
   "metadata": {},
   "outputs": [],
   "source": []
  },
  {
   "cell_type": "code",
   "execution_count": null,
   "metadata": {},
   "outputs": [],
   "source": []
  },
  {
   "cell_type": "code",
   "execution_count": null,
   "metadata": {},
   "outputs": [],
   "source": []
  }
 ],
 "metadata": {
  "kernelspec": {
   "display_name": "Python 3",
   "language": "python",
   "name": "python3"
  },
  "language_info": {
   "codemirror_mode": {
    "name": "ipython",
    "version": 3
   },
   "file_extension": ".py",
   "mimetype": "text/x-python",
   "name": "python",
   "nbconvert_exporter": "python",
   "pygments_lexer": "ipython3",
   "version": "3.6.5"
  }
 },
 "nbformat": 4,
 "nbformat_minor": 2
}
